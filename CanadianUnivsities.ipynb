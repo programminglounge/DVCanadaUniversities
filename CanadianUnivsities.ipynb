import pandas as pd
import requests
#import geoplotlib
import folium
import urllib

url = 'http://universities.hipolabs.com/search?country=Canada'
data = ((requests.get(url)).json())
m = folium.Map([40.753932, -73.984016], zoom_start=2)
for i in range(10):
  url2 = 'https://nominatim.openstreetmap.org/search/' + urllib.parse.quote(data[i]['name'])+'?format=json'
  response2 = requests.get(url2).json()
  if (response2 == []):
    continue
  data = [response2[0]['lat'], response2[0]['lat']]
  folium.CircleMarker(location=data).add_to(m)


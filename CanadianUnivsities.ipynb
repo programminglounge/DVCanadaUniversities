#folium may not be installed so best to use !pip install folium

from folium.vector_layers import CircleMarker
import requests
import folium
import urllib

url = 'http://universities.hipolabs.com/search?country=Canada'
data = ((requests.get(url)).json())
m = folium.Map([40.753932, -73.984016], zoom_start=2)
m.fitbounds([[45, -125], [70, -80]])
for i in range(len(data)):
  url2 = 'https://nominatim.openstreetmap.org/search/' + urllib.parse.quote(data[i]['name'])+'?format=json'
  response2 = requests.get(url2).json()
  if (response2 == []):
    continue
  x= float( [response2[0]['lat'])
  y= float(response2[0]['lat'])
  data2=[x, y]
  folium.CircleMarker(location=data2, radius=2, tooltip=data[i]['name']).add_to(m)
  #folium.CircleMarker(location=data2, radius=2, tooltip=response2[0]['display_name']).add_to(m)
m

#basemap may need to be installed so please use !pip install basemap 
import matplotlib.pyplot as plt
from mpl_toolkits.basemap import Basemap
from itertools import chain
import numpy as np
def draw_map(m, scale = 0.2):
  m.shadedrelief(scale = scale)
  lats = m.drawparallels(np.linspace(-90, 90, 13))
  lons = m.drawmeridians(np.linspace(-180, 180, 13))
  lat_lines = chain(*(tup[1][0] for tup in lats.items()))
  lon_lines = chain(*(tup[1][0] for tup in lons.items()))
  all_lines = chain(lat_lines, lon_lines)
  for line in all_lines:
    line.set(linestyle = '-', alpha = 0.3, color = 'w')

plt.figure(figsize(20, 20))
m = Basemap(projection = 'cyl', llcrnrlat = -90, urcrnrlat = 90, llcrnrlon = -180, urcrnrlon=180)
url = 'http://universities.hipolabs.com/search?country=Canada'
data = ((requests.get(url)).json())
for i in range(len(data)):
  url2 = 'https://nominatim.openstreetmap.org/search/' + urllib.parse.quote(data[i]['name'])+'?format=json'
  response2 = requests.get(url2).json()
  if (response2 == []):
    continue
  x= float( [response2[0]['lat'])
  y= float(response2[0]['lat'])
  m.scatter(x, y, latlon='true')

draw_map(m)

                        

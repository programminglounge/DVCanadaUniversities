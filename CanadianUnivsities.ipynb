from folium.vector_layers import CircleMarker
import requests
import folium
import urllib

url = 'http://universities.hipolabs.com/search?country=Canada'
data = ((requests.get(url)).json())
m = folium.Map([40.753932, -73.984016], zoom_start=2)
m.fitbounds([[45, -125], [70, -80]])
for i in range(len(data)):
  url2 = 'https://nominatim.openstreetmap.org/search/' + urllib.parse.quote(data[i]['name'])+'?format=json'
  response2 = requests.get(url2).json()
  if (response2 == []):
    continue
  x= float( [response2[0]['lat'])
  y= float(response2[0]['lat'])
  data2=[x, y]
  folium.CircleMarker(location=data2, radius=2, tooltip=data[i]['name']).add_to(m)
  #folium.CircleMarker(location=data2, radius=2, tooltip=response2[0]['display_name']).add_to(m)
m
